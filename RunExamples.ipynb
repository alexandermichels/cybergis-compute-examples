{
 "cells": [
  {
   "cell_type": "markdown",
   "id": "6be58b8e-adf7-4dd7-92f1-b2f38ad99aef",
   "metadata": {},
   "source": [
    "# Run Examples\n",
    "\n",
    "**Author:** Alexander Michels\n",
    "\n",
    "This notebook walks through running the CyberGIS-Compute model composed of the three examples in this guide."
   ]
  },
  {
   "cell_type": "code",
   "execution_count": 1,
   "id": "e4cf4cd4-e94a-46c8-ac32-0a5b1d315af3",
   "metadata": {},
   "outputs": [],
   "source": [
    "from IPython.display import Image\n",
    "import os"
   ]
  },
  {
   "cell_type": "markdown",
   "id": "55695fe5-bb37-4eed-b3ad-797c92f7a30b",
   "metadata": {},
   "source": [
    "The GeoJSONs in the `data/` folder is already uploaded as part of the Github repo, so let's get some new data to plot. The commands below make a `new_data` folder and download a dataset of the [Stephen's Kangaroo Rat Range](https://catalog.data.gov/dataset/stephens-kangaroo-rat-range-cwhr-m108-ds1895-25c2b)."
   ]
  },
  {
   "cell_type": "code",
   "execution_count": 2,
   "id": "8f3c92f2-f302-44c8-ade6-5af16393a1ed",
   "metadata": {},
   "outputs": [
    {
     "name": "stdout",
     "output_type": "stream",
     "text": [
      "--2022-10-20 19:23:32--  https://data-cdfw.opendata.arcgis.com/datasets/2331a5a9cf4547faa8b86d73b1af38a0_0.geojson?outSR=%7B%22latestWkid%22%3A3857%2C%22wkid%22%3A102100%7D\n",
      "Resolving data-cdfw.opendata.arcgis.com (data-cdfw.opendata.arcgis.com)... 3.219.120.199, 34.193.115.202, 44.207.123.71\n",
      "Connecting to data-cdfw.opendata.arcgis.com (data-cdfw.opendata.arcgis.com)|3.219.120.199|:443... connected.\n",
      "HTTP request sent, awaiting response... 200 OK\n",
      "Length: unspecified [application/json]\n",
      "Saving to: ‘new_data/kangarro_rat_range.geojson’\n",
      "\n",
      "new_data/kangarro_r     [ <=>                ] 166.25K  --.-KB/s    in 0.04s   \n",
      "\n",
      "2022-10-20 19:23:33 (3.85 MB/s) - ‘new_data/kangarro_rat_range.geojson’ saved [170244]\n",
      "\n"
     ]
    }
   ],
   "source": [
    "!mkdir new_data/\n",
    "!wget -O new_data/kangarro_rat_range.geojson https://data-cdfw.opendata.arcgis.com/datasets/2331a5a9cf4547faa8b86d73b1af38a0_0.geojson?outSR=%7B%22latestWkid%22%3A3857%2C%22wkid%22%3A102100%7D"
   ]
  },
  {
   "cell_type": "markdown",
   "id": "7ad0ccdb-4c11-41a7-8e8e-214573591416",
   "metadata": {},
   "source": [
    "Now, we want to connect to our CyberGIS-Compute server with the commands below. Normally we would use \"cgjobsup.cigi.illinois.edu\", but since this is a toy model, we put it on our test deployment:"
   ]
  },
  {
   "cell_type": "code",
   "execution_count": 3,
   "id": "11a2a74e-3548-4a47-8866-f8c601689113",
   "metadata": {},
   "outputs": [],
   "source": [
    "from cybergis_compute_client import CyberGISCompute\n",
    "\n",
    "cybergis = CyberGISCompute(url=\"cgjobsup-test.cigi.illinois.edu\", isJupyter=True, protocol=\"HTTPS\", port=443, suffix=\"v2\")"
   ]
  },
  {
   "cell_type": "markdown",
   "id": "67e8cfb2-5ed3-4e81-a4b7-79b1cccb59be",
   "metadata": {},
   "source": [
    "Once you pull up the UI by running the cell below, follow these steps:\n",
    "\n",
    "1. In the \"Job Templates\" dropdown choose \"three-examples.\"\n",
    "2. Under the \"Input Parameters\" section, type your name in the \"name\" box.\n",
    "3. Under the \"Upload Data\" section, choose a folder of data to upload using the \"Select\" button (\"new_data\" or \"data\"). Once you select the folder and click the \"Select\" button, it should show the path in green next to a \"Change\" button.\n",
    "4. Click \"Submit Job\" at the bottom. \n",
    "\n",
    "The UI will switch to the \"Your Job Status\" tab which gives you updates about your job. Wait for it to finish."
   ]
  },
  {
   "cell_type": "code",
   "execution_count": 4,
   "id": "95030029-6b80-4bb2-8aed-7f598984dd74",
   "metadata": {},
   "outputs": [
    {
     "data": {
      "application/vnd.jupyter.widget-view+json": {
       "model_id": "dd5db8ecddcd4d45960776068318318c",
       "version_major": 2,
       "version_minor": 0
      },
      "text/plain": [
       "Tab(children=(Output(), Output(), Output(), Output()), _titles={'0': 'Job Configuration', '1': 'Your Job Statu…"
      ]
     },
     "metadata": {},
     "output_type": "display_data"
    }
   ],
   "source": [
    "cybergis.show_ui()"
   ]
  },
  {
   "cell_type": "markdown",
   "id": "727f4846-6176-4d6f-9cda-cd9054f22e69",
   "metadata": {},
   "source": [
    "With the job complete, go to the \"Download Job Results\" tab and click the \"Download\" button to download the full result folder. The download can take a minute or more (depending on the amount of data) and when it is complete, you should see:\n",
    "\n",
    "```\n",
    "✅ download success!\n",
    "please check your data at your root folder under \"globus_download_xxxxxxxxxxx\"\n",
    "```\n",
    "\n",
    "That `globus_download_xxxxxxxxxxx` folder will be in your root directory in the file browser (`~/work` in the terminal) and we can access it with the variable `cybergis.recentDownloadPath`. Let's inspect the outputs:"
   ]
  },
  {
   "cell_type": "code",
   "execution_count": 5,
   "id": "87d920f1-80f8-4f63-89c5-6af716714840",
   "metadata": {},
   "outputs": [
    {
     "name": "stdout",
     "output_type": "stream",
     "text": [
      "0.jpg  slurm_log\n"
     ]
    }
   ],
   "source": [
    "!ls {cybergis.recentDownloadPath}"
   ]
  },
  {
   "cell_type": "markdown",
   "id": "2209b8ce-b909-4cc4-8665-d13c65649257",
   "metadata": {},
   "source": [
    "The logs for our job are in the result folder under the folder `slurm_log`. Let's see the contents:"
   ]
  },
  {
   "cell_type": "code",
   "execution_count": 6,
   "id": "6f0003ee-93c2-49de-9b09-6caf0476ce23",
   "metadata": {},
   "outputs": [
    {
     "name": "stdout",
     "output_type": "stream",
     "text": [
      "job.stderr  job.stdout\n"
     ]
    }
   ],
   "source": [
    "!ls {cybergis.recentDownloadPath}/slurm_log/"
   ]
  },
  {
   "cell_type": "code",
   "execution_count": 7,
   "id": "b6702642-2979-4f02-8c09-39b8a50bd814",
   "metadata": {},
   "outputs": [
    {
     "name": "stdout",
     "output_type": "stream",
     "text": [
      "ModuleCmd_Use.c(231):ERROR:64: Directory 'gnu/openmpi-4.1.2-gnu-4.8.5' not found\n",
      "Matplotlib created a temporary config/cache directory at /tmp/matplotlib-sphfow4a because the default path (/home/jovyan/.cache/matplotlib) is not a writable directory; it is highly recommended to set the MPLCONFIGDIR environment variable to a writable directory, in particular to speed up the import of Matplotlib and to better support multiprocessing.\n"
     ]
    }
   ],
   "source": [
    "!cat {cybergis.recentDownloadPath}/slurm_log/job.stderr"
   ]
  },
  {
   "cell_type": "code",
   "execution_count": 8,
   "id": "84fe2ed1-dc8e-45c4-b5a7-21768ca263e0",
   "metadata": {},
   "outputs": [
    {
     "name": "stdout",
     "output_type": "stream",
     "text": [
      "Hello from example 1!\n",
      "0\n",
      "1\n",
      "1\n",
      "2\n",
      "3\n",
      "5\n",
      "8\n",
      "13\n",
      "21\n",
      "34\n",
      "55\n",
      "89\n",
      "144\n",
      "233\n",
      "377\n",
      "610\n",
      "987\n",
      "1597\n",
      "2584\n",
      "4181\n",
      "6765\n",
      "10946\n",
      "17711\n",
      "28657\n",
      "46368\n",
      "75025\n",
      "121393\n",
      "196418\n",
      "317811\n",
      "514229\n",
      "We are going to map 1 geojsons. They are:\n",
      "  * /job/data/kangarro_rat_range.geojson\n",
      "Your name is General Kenobi\n"
     ]
    }
   ],
   "source": [
    "!cat {cybergis.recentDownloadPath}/slurm_log/job.stdout"
   ]
  },
  {
   "cell_type": "markdown",
   "id": "b1537318-1164-4496-abec-3b69efae2c5a",
   "metadata": {},
   "source": [
    "Now, let's load a map:"
   ]
  },
  {
   "cell_type": "code",
   "execution_count": 9,
   "id": "f5233ebc-1fb2-4c2c-9e72-f6c01d28c529",
   "metadata": {},
   "outputs": [
    {
     "data": {
      "image/jpeg": "[encoded data removed]",
      "text/plain": [
       "<IPython.core.display.Image object>"
      ]
     },
     "execution_count": 9,
     "metadata": {},
     "output_type": "execute_result"
    }
   ],
   "source": [
    "Image(filename=os.path.join(cybergis.recentDownloadPath, \"0.jpg\"))"
   ]
  },
  {
   "cell_type": "code",
   "execution_count": null,
   "id": "14562c7b-c142-4b9d-a4c1-da3c63bd875b",
   "metadata": {},
   "outputs": [],
   "source": []
  }
 ],
 "metadata": {
  "kernelspec": {
   "display_name": "Python 3",
   "language": "python",
   "name": "python3"
  },
  "language_info": {
   "codemirror_mode": {
    "name": "ipython",
    "version": 3
   },
   "file_extension": ".py",
   "mimetype": "text/x-python",
   "name": "python",
   "nbconvert_exporter": "python",
   "pygments_lexer": "ipython3",
   "version": "3.8.12"
  }
 },
 "nbformat": 4,
 "nbformat_minor": 5
}
